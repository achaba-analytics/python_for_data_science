{
 "cells": [
  {
   "cell_type": "markdown",
   "id": "b85c5946-8485-4b2c-8ac5-7fd77d02ab1a",
   "metadata": {},
   "source": [
    "Python for Data Science\n",
    "terminologies"
   ]
  },
  {
   "cell_type": "code",
   "execution_count": 1,
   "id": "45d4a303-84a8-4a39-af9f-4f6faf6a7ef9",
   "metadata": {},
   "outputs": [
    {
     "data": {
      "text/plain": [
       "builtin_function_or_method"
      ]
     },
     "execution_count": 1,
     "metadata": {},
     "output_type": "execute_result"
    }
   ],
   "source": [
    "type(print)"
   ]
  },
  {
   "cell_type": "code",
   "execution_count": 22,
   "id": "6e717d43-2efd-4ad7-8ed6-a60462a4eb7d",
   "metadata": {},
   "outputs": [
    {
     "name": "stdout",
     "output_type": "stream",
     "text": [
      "Name: Achaba Otieno\n",
      "Job Title: CEO\n",
      "Company Name: Achaba Analytics\n",
      "Salary: $1000000\n"
     ]
    }
   ],
   "source": [
    "def display_info(name, job_title, company_name, salary):\n",
    "    print(f'Name: {name}\\nJob Title: {job_title}\\nCompany Name: {company_name}\\nSalary: ${salary}')\n",
    "name = 'Achaba Otieno'\n",
    "job_title = 'CEO'\n",
    "company_name = 'Achaba Analytics'\n",
    "salary = 1000000\n",
    "id(job_title)\n",
    "id(company_name)"
   ]
  },
  {
   "cell_type": "code",
   "execution_count": 11,
   "id": "9c0f6c55-aabd-4113-8c56-1db962e6f144",
   "metadata": {},
   "outputs": [
    {
     "data": {
      "text/plain": [
       "(2670637094624, 2670651379888, 2670650583792)"
      ]
     },
     "execution_count": 11,
     "metadata": {},
     "output_type": "execute_result"
    }
   ],
   "source": [
    "id(job_title), id(company_name), id(salary)"
   ]
  },
  {
   "cell_type": "code",
   "execution_count": 12,
   "id": "0291d046-6ba2-47c8-8c07-f4468444035a",
   "metadata": {},
   "outputs": [],
   "source": [
    "job1_id = job_title"
   ]
  },
  {
   "cell_type": "code",
   "execution_count": 14,
   "id": "38b9ad20-0a2d-4316-8b59-2f15624613be",
   "metadata": {},
   "outputs": [
    {
     "data": {
      "text/plain": [
       "(2670637094624, 2670637094624)"
      ]
     },
     "execution_count": 14,
     "metadata": {},
     "output_type": "execute_result"
    }
   ],
   "source": [
    "id(job1_id), id(job_title)"
   ]
  },
  {
   "cell_type": "code",
   "execution_count": 17,
   "id": "55284f9b-611d-4cf3-8d56-c9041b5223c8",
   "metadata": {},
   "outputs": [
    {
     "name": "stdout",
     "output_type": "stream",
     "text": [
      "Hello Achaba Analytics\n"
     ]
    }
   ],
   "source": [
    "def greet(name):\n",
    "    print(f'Hello {name}')\n",
    "\n",
    "greet('Achaba Analytics')"
   ]
  },
  {
   "cell_type": "code",
   "execution_count": 26,
   "id": "b00d82f3-e5ee-4551-94d5-f153f0173216",
   "metadata": {},
   "outputs": [
    {
     "data": {
      "text/plain": [
       "method"
      ]
     },
     "execution_count": 26,
     "metadata": {},
     "output_type": "execute_result"
    }
   ],
   "source": [
    "type(input)"
   ]
  },
  {
   "cell_type": "markdown",
   "id": "67b3cb4d-f8a4-42cd-a542-b5fe36518dbd",
   "metadata": {},
   "source": [
    "Class"
   ]
  },
  {
   "cell_type": "code",
   "execution_count": 16,
   "id": "0457a09c-bc76-44d5-b9e0-042441031be1",
   "metadata": {},
   "outputs": [
    {
     "data": {
      "text/plain": [
       "900000"
      ]
     },
     "execution_count": 16,
     "metadata": {},
     "output_type": "execute_result"
    }
   ],
   "source": [
    "job_title = 'Data Scientist'\n",
    "job_location = 'Kenya'\n",
    "job_salary = 900000\n",
    "\n",
    "class JobInfo:\n",
    "    def __init__(self, title, location, salary):\n",
    "        self.title = title\n",
    "        self.location = location\n",
    "        self.salary = salary\n",
    "    \n",
    "\n",
    "job1 = JobInfo(job_title, job_location, job_salary)\n",
    "job1.salary"
   ]
  },
  {
   "cell_type": "code",
   "execution_count": 38,
   "id": "c2a6ceb1-4e08-4c56-9009-cf1b3240cb68",
   "metadata": {},
   "outputs": [
    {
     "data": {
      "text/plain": [
       "'Kenya'"
      ]
     },
     "execution_count": 38,
     "metadata": {},
     "output_type": "execute_result"
    }
   ],
   "source": [
    "job1.location"
   ]
  },
  {
   "cell_type": "code",
   "execution_count": 6,
   "id": "d46c1342-1c4a-4485-ad72-dbaac8a8de9b",
   "metadata": {},
   "outputs": [
    {
     "name": "stdout",
     "output_type": "stream",
     "text": [
      "Job Title: Data Scientist\n",
      "Job Location: Kenya\n",
      "Job Salary: 900000\n"
     ]
    }
   ],
   "source": [
    "job_title = 'Data Scientist'\n",
    "job_location = 'Kenya'\n",
    "job_salary = 900000\n",
    "\n",
    "def display_info(title, location, salary):\n",
    "        print(f'Job Title: {job_title}\\nJob Location: {job_location}\\nJob Salary: {job_salary}')\n",
    "\n",
    "\n",
    "display_info(job_title, job_location, job_salary)"
   ]
  },
  {
   "cell_type": "markdown",
   "id": "0cf6c13f-8fd4-4b63-a1d9-f8790034b893",
   "metadata": {},
   "source": [
    "The Function of an Object"
   ]
  },
  {
   "cell_type": "code",
   "execution_count": 19,
   "id": "2b6022a1-a1e1-4963-bc8d-59f23121bca8",
   "metadata": {},
   "outputs": [
    {
     "name": "stdout",
     "output_type": "stream",
     "text": [
      "Job Title: Data Scientist\n",
      "Job Location: Kenya\n",
      "Job Salary: 900000\n"
     ]
    }
   ],
   "source": [
    "class JobPost:\n",
    "    def __init__(self, title, location, salary):\n",
    "        self.title = title\n",
    "        self.location = location\n",
    "        self.salary = salary\n",
    "    def display_info(self):\n",
    "         return print(f'Job Title: {job_title}\\nJob Location: {job_location}\\nJob Salary: {job_salary}')\n",
    "\n",
    "job_1 = JobPost(job_title, job_location, job_salary)\n",
    "\n",
    "job_1.display_info()"
   ]
  },
  {
   "cell_type": "code",
   "execution_count": 21,
   "id": "48ce6130-e404-481b-a6ce-cfe8fa7a6da5",
   "metadata": {},
   "outputs": [
    {
     "data": {
      "text/plain": [
       "900001"
      ]
     },
     "execution_count": 21,
     "metadata": {},
     "output_type": "execute_result"
    }
   ],
   "source": [
    "job_salary.__add__(1)"
   ]
  },
  {
   "cell_type": "markdown",
   "id": "ed5216cd-c2c3-43f5-aad5-681ee8a73db4",
   "metadata": {},
   "source": [
    "test"
   ]
  },
  {
   "cell_type": "code",
   "execution_count": 28,
   "id": "f28acc54-7c3c-4da3-8c61-d889422e3ebd",
   "metadata": {},
   "outputs": [
    {
     "name": "stdout",
     "output_type": "stream",
     "text": [
      "Title: John Wick\n",
      "Genre: Action\n",
      "Year: 2014\n"
     ]
    }
   ],
   "source": [
    "movie_title = 'John Wick'\n",
    "genre = 'Action'\n",
    "year = 2014\n",
    "\n",
    "def movie_info(movie_title, genre, year):\n",
    "    print(f'Title: {movie_title}\\nGenre: {genre}\\nYear: {year}')\n",
    "\n",
    "movie_info(movie_title, genre, year)"
   ]
  },
  {
   "cell_type": "code",
   "execution_count": null,
   "id": "e500d6a9-7bbe-40cd-b32e-2fb2633e9a8b",
   "metadata": {},
   "outputs": [],
   "source": []
  }
 ],
 "metadata": {
  "kernelspec": {
   "display_name": "Python 3 (ipykernel)",
   "language": "python",
   "name": "python3"
  },
  "language_info": {
   "codemirror_mode": {
    "name": "ipython",
    "version": 3
   },
   "file_extension": ".py",
   "mimetype": "text/x-python",
   "name": "python",
   "nbconvert_exporter": "python",
   "pygments_lexer": "ipython3",
   "version": "3.12.7"
  }
 },
 "nbformat": 4,
 "nbformat_minor": 5
}
