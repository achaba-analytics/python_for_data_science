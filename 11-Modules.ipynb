{
 "cells": [
  {
   "cell_type": "code",
   "execution_count": 16,
   "id": "83eeacc8-eda6-4b76-a6de-f948337e6d4f",
   "metadata": {},
   "outputs": [
    {
     "data": {
      "text/plain": [
       "['Python', 'SQL', 'Excel']"
      ]
     },
     "execution_count": 16,
     "metadata": {},
     "output_type": "execute_result"
    }
   ],
   "source": [
    "import my_module\n",
    "\n",
    "my_module.skill_list"
   ]
  },
  {
   "cell_type": "code",
   "execution_count": 17,
   "id": "fbf3c0ba-b060-4f9e-ad27-04f621073275",
   "metadata": {},
   "outputs": [
    {
     "data": {
      "text/plain": [
       "'Python is my favorite skill!'"
      ]
     },
     "execution_count": 17,
     "metadata": {},
     "output_type": "execute_result"
    }
   ],
   "source": [
    "my_module.skill('Python')"
   ]
  },
  {
   "cell_type": "code",
   "execution_count": 18,
   "id": "0a19b2fc-88dd-440c-8f88-9209407aa710",
   "metadata": {},
   "outputs": [
    {
     "data": {
      "text/plain": [
       "0.1"
      ]
     },
     "execution_count": 18,
     "metadata": {},
     "output_type": "execute_result"
    }
   ],
   "source": [
    "from job_analyzer import *\n",
    "\n",
    "calculate_salary(100000, 0.1)\n",
    "\n",
    "calculate_bonus(110000, 100000)"
   ]
  },
  {
   "cell_type": "code",
   "execution_count": 19,
   "id": "a49d1871-8890-4771-ab8c-601cb2317183",
   "metadata": {},
   "outputs": [],
   "source": [
    "salary_list = [98000, 101000, 99000, 120000, 150000]"
   ]
  },
  {
   "cell_type": "code",
   "execution_count": 20,
   "id": "d7a91839-9db4-4f88-9918-9dee2f3551d4",
   "metadata": {},
   "outputs": [
    {
     "ename": "NameError",
     "evalue": "name 'statistics' is not defined",
     "output_type": "error",
     "traceback": [
      "\u001b[1;31m---------------------------------------------------------------------------\u001b[0m",
      "\u001b[1;31mNameError\u001b[0m                                 Traceback (most recent call last)",
      "Cell \u001b[1;32mIn[20], line 3\u001b[0m\n\u001b[0;32m      1\u001b[0m \u001b[38;5;28;01mfrom\u001b[39;00m \u001b[38;5;21;01mstatistics\u001b[39;00m \u001b[38;5;28;01mimport\u001b[39;00m mean, mode, median\n\u001b[1;32m----> 3\u001b[0m statistics\u001b[38;5;241m.\u001b[39mmean(salary_list)\n",
      "\u001b[1;31mNameError\u001b[0m: name 'statistics' is not defined"
     ]
    }
   ],
   "source": [
    "from statistics import mean, mode, median\n",
    "\n",
    "statistics.mean(salary_list)"
   ]
  },
  {
   "cell_type": "code",
   "execution_count": null,
   "id": "191127bc-4a39-4e6b-b0fb-113b939febbc",
   "metadata": {},
   "outputs": [],
   "source": [
    "mode(salary_list)"
   ]
  },
  {
   "cell_type": "code",
   "execution_count": null,
   "id": "15e54726-f2e8-401a-81b4-696d99786f51",
   "metadata": {},
   "outputs": [],
   "source": [
    "median(salary_list)"
   ]
  },
  {
   "cell_type": "code",
   "execution_count": null,
   "id": "b82e1953-cceb-447d-966c-82b7878ce11d",
   "metadata": {},
   "outputs": [],
   "source": [
    "data_science_jobs = [\n",
    "    {'job_title': 'Data Scientist', 'job_skills': \"['Python', 'SQL', 'Machine Learning']\", 'job_date': '2023-05-12'},\n",
    "    {'job_title': 'Machine Learning Engineer', 'job_skills': \"['Python', 'TensorFlow', 'Deep Learning']\", 'job_date': '2023-05-15'},\n",
    "    {'job_title': 'Data Analyst', 'job_skills': \"['SQL', 'R', 'Tableau']\", 'job_date': '2023-05-10'},\n",
    "    {'job_title': 'Business Intelligence Developer', 'job_skills': \"['SQL', 'PowerBI', 'Data Warehousing']\", 'job_date': '2023-05-08'},\n",
    "    {'job_title': 'Data Engineer', 'job_skills': \"['Python', 'Spark', 'Hadoop']\", 'job_date': '2023-05-18'},\n",
    "    {'job_title': 'AI Specialist', 'job_skills': \"['Python', 'PyTorch', 'AI Ethics']\", 'job_date': '2023-05-20'}\n",
    "]"
   ]
  },
  {
   "cell_type": "code",
   "execution_count": null,
   "id": "f71d2684-6cf7-49ff-bab9-42bf1b07a1cd",
   "metadata": {},
   "outputs": [],
   "source": [
    "from datetime import datetime"
   ]
  },
  {
   "cell_type": "code",
   "execution_count": null,
   "id": "917463ba-cc1b-42ed-ac13-87ad508a44f4",
   "metadata": {},
   "outputs": [],
   "source": [
    "datetime.now()"
   ]
  },
  {
   "cell_type": "code",
   "execution_count": null,
   "id": "3cf44fb4-e3fa-4c09-809a-8dac98ee084d",
   "metadata": {},
   "outputs": [],
   "source": [
    "test_date = data_science_jobs[0]['job_date']"
   ]
  },
  {
   "cell_type": "code",
   "execution_count": null,
   "id": "25321b2d-f9a3-4e30-8034-b2d5c1c72942",
   "metadata": {},
   "outputs": [],
   "source": [
    "print(datetime.strptime(test_date, '%Y-%m-%d'))"
   ]
  },
  {
   "cell_type": "code",
   "execution_count": 24,
   "id": "bda5b7bd-d2c5-46d1-8d6b-e943c9064a3d",
   "metadata": {
    "scrolled": true
   },
   "outputs": [
    {
     "ename": "TypeError",
     "evalue": "strptime() argument 1 must be str, not datetime.datetime",
     "output_type": "error",
     "traceback": [
      "\u001b[1;31m---------------------------------------------------------------------------\u001b[0m",
      "\u001b[1;31mTypeError\u001b[0m                                 Traceback (most recent call last)",
      "Cell \u001b[1;32mIn[24], line 3\u001b[0m\n\u001b[0;32m      1\u001b[0m \u001b[38;5;28;01mimport\u001b[39;00m \u001b[38;5;21;01mast\u001b[39;00m\n\u001b[0;32m      2\u001b[0m \u001b[38;5;28;01mfor\u001b[39;00m job \u001b[38;5;129;01min\u001b[39;00m data_science_jobs:\n\u001b[1;32m----> 3\u001b[0m     job[\u001b[38;5;124m'\u001b[39m\u001b[38;5;124mjob_date\u001b[39m\u001b[38;5;124m'\u001b[39m] \u001b[38;5;241m=\u001b[39m datetime\u001b[38;5;241m.\u001b[39mstrptime(job[\u001b[38;5;124m'\u001b[39m\u001b[38;5;124mjob_date\u001b[39m\u001b[38;5;124m'\u001b[39m], \u001b[38;5;124m'\u001b[39m\u001b[38;5;124m%\u001b[39m\u001b[38;5;124mY-\u001b[39m\u001b[38;5;124m%\u001b[39m\u001b[38;5;124mm-\u001b[39m\u001b[38;5;132;01m%d\u001b[39;00m\u001b[38;5;124m'\u001b[39m)\n\u001b[0;32m      5\u001b[0m job[\u001b[38;5;124m'\u001b[39m\u001b[38;5;124mjon_skills\u001b[39m\u001b[38;5;124m'\u001b[39m] \u001b[38;5;241m=\u001b[39m ast\u001b[38;5;241m.\u001b[39mliteral_level(job[\u001b[38;5;124m'\u001b[39m\u001b[38;5;124mjob_skills\u001b[39m\u001b[38;5;124m'\u001b[39m])\n",
      "\u001b[1;31mTypeError\u001b[0m: strptime() argument 1 must be str, not datetime.datetime"
     ]
    }
   ],
   "source": [
    "import ast\n",
    "for job in data_science_jobs:\n",
    "    job['job_date'] = datetime.strptime(job['job_date'], '%Y-%m-%d')\n",
    "\n",
    "job['jon_skills'] = ast.literal_level(job['job_skills'])"
   ]
  },
  {
   "cell_type": "code",
   "execution_count": 21,
   "id": "bb6204b5-a76e-4f8e-9b55-58518c69797d",
   "metadata": {},
   "outputs": [
    {
     "data": {
      "text/plain": [
       "[{'job_title': 'Data Scientist',\n",
       "  'job_skills': \"['Python', 'SQL', 'Machine Learning']\",\n",
       "  'job_date': datetime.datetime(2023, 5, 12, 0, 0)},\n",
       " {'job_title': 'Machine Learning Engineer',\n",
       "  'job_skills': \"['Python', 'TensorFlow', 'Deep Learning']\",\n",
       "  'job_date': datetime.datetime(2023, 5, 15, 0, 0)},\n",
       " {'job_title': 'Data Analyst',\n",
       "  'job_skills': \"['SQL', 'R', 'Tableau']\",\n",
       "  'job_date': datetime.datetime(2023, 5, 10, 0, 0)},\n",
       " {'job_title': 'Business Intelligence Developer',\n",
       "  'job_skills': \"['SQL', 'PowerBI', 'Data Warehousing']\",\n",
       "  'job_date': datetime.datetime(2023, 5, 8, 0, 0)},\n",
       " {'job_title': 'Data Engineer',\n",
       "  'job_skills': \"['Python', 'Spark', 'Hadoop']\",\n",
       "  'job_date': datetime.datetime(2023, 5, 18, 0, 0)},\n",
       " {'job_title': 'AI Specialist',\n",
       "  'job_skills': \"['Python', 'PyTorch', 'AI Ethics']\",\n",
       "  'job_date': datetime.datetime(2023, 5, 20, 0, 0)}]"
      ]
     },
     "execution_count": 21,
     "metadata": {},
     "output_type": "execute_result"
    }
   ],
   "source": [
    "data_science_jobs"
   ]
  },
  {
   "cell_type": "code",
   "execution_count": null,
   "id": "a29435b1-246b-4bf4-9316-05905b0ed338",
   "metadata": {},
   "outputs": [],
   "source": []
  }
 ],
 "metadata": {
  "kernelspec": {
   "display_name": "Python 3 (ipykernel)",
   "language": "python",
   "name": "python3"
  },
  "language_info": {
   "codemirror_mode": {
    "name": "ipython",
    "version": 3
   },
   "file_extension": ".py",
   "mimetype": "text/x-python",
   "name": "python",
   "nbconvert_exporter": "python",
   "pygments_lexer": "ipython3",
   "version": "3.12.7"
  }
 },
 "nbformat": 4,
 "nbformat_minor": 5
}
