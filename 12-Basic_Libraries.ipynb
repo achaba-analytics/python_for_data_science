{
 "cells": [
  {
   "cell_type": "markdown",
   "id": "5fa80237-8a46-41b3-a43e-35753db2b9f9",
   "metadata": {},
   "source": [
    "BASIC_LIBRARIES"
   ]
  },
  {
   "cell_type": "code",
   "execution_count": null,
   "id": "dcf283ed-e330-4b90-af71-89fb2e0ad2fa",
   "metadata": {},
   "outputs": [],
   "source": []
  }
 ],
 "metadata": {
  "kernelspec": {
   "display_name": "Python 3 (ipykernel)",
   "language": "python",
   "name": "python3"
  },
  "language_info": {
   "codemirror_mode": {
    "name": "ipython",
    "version": 3
   },
   "file_extension": ".py",
   "mimetype": "text/x-python",
   "name": "python",
   "nbconvert_exporter": "python",
   "pygments_lexer": "ipython3",
   "version": "3.12.7"
  }
 },
 "nbformat": 4,
 "nbformat_minor": 5
}
