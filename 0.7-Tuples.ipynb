{
 "cells": [
  {
   "cell_type": "markdown",
   "id": "21d7cdb0-69b0-44c4-b1ef-ea2efd3cd1a9",
   "metadata": {},
   "source": [
    "Tuples"
   ]
  },
  {
   "cell_type": "code",
   "execution_count": 10,
   "id": "00cf3511-1696-470f-81b0-3ad24b51b851",
   "metadata": {},
   "outputs": [
    {
     "name": "stdout",
     "output_type": "stream",
     "text": [
      "2125602975920\n"
     ]
    }
   ],
   "source": [
    "achaba_skills = ('python', 'sql', 'Excel', 'statistics')\n",
    "print(id(achaba_skills))"
   ]
  },
  {
   "cell_type": "code",
   "execution_count": 2,
   "id": "cb871bb9-0b86-4310-bd17-bf0a19cf43a0",
   "metadata": {},
   "outputs": [
    {
     "data": {
      "text/plain": [
       "('python', 'sql', 'Excel', 'statistics')"
      ]
     },
     "execution_count": 2,
     "metadata": {},
     "output_type": "execute_result"
    }
   ],
   "source": [
    "achaba_skills"
   ]
  },
  {
   "cell_type": "code",
   "execution_count": 3,
   "id": "301c2171-edb7-48ec-a2a0-f7a5663f1e44",
   "metadata": {},
   "outputs": [
    {
     "data": {
      "text/plain": [
       "'python'"
      ]
     },
     "execution_count": 3,
     "metadata": {},
     "output_type": "execute_result"
    }
   ],
   "source": [
    "achaba_skills[0]"
   ]
  },
  {
   "cell_type": "code",
   "execution_count": 5,
   "id": "16053b05-1fdc-45ea-8210-80271283460f",
   "metadata": {},
   "outputs": [],
   "source": [
    "new_skills = ('power bi', 'tableau')"
   ]
  },
  {
   "cell_type": "code",
   "execution_count": 7,
   "id": "fb904384-eaf7-40b3-8b65-850e32ceff34",
   "metadata": {},
   "outputs": [],
   "source": [
    "achaba_skills +=new_skills"
   ]
  },
  {
   "cell_type": "code",
   "execution_count": 8,
   "id": "67b0720b-68d5-45a5-a46f-62a649a427ae",
   "metadata": {},
   "outputs": [
    {
     "data": {
      "text/plain": [
       "('python', 'sql', 'Excel', 'statistics', 'power bi', 'tableau')"
      ]
     },
     "execution_count": 8,
     "metadata": {},
     "output_type": "execute_result"
    }
   ],
   "source": [
    "achaba_skills"
   ]
  },
  {
   "cell_type": "code",
   "execution_count": 9,
   "id": "153db851-322b-499f-a6b1-c728e9ee36f6",
   "metadata": {},
   "outputs": [
    {
     "data": {
      "text/plain": [
       "2125598775936"
      ]
     },
     "execution_count": 9,
     "metadata": {},
     "output_type": "execute_result"
    }
   ],
   "source": [
    "id(achaba_skills)"
   ]
  },
  {
   "cell_type": "code",
   "execution_count": 11,
   "id": "5e1ab27c-e104-4abd-b580-c75597d2fe68",
   "metadata": {},
   "outputs": [
    {
     "data": {
      "text/plain": [
       "range(0, 5)"
      ]
     },
     "execution_count": 11,
     "metadata": {},
     "output_type": "execute_result"
    }
   ],
   "source": [
    "range(5)"
   ]
  },
  {
   "cell_type": "code",
   "execution_count": 12,
   "id": "04f73f70-f183-467a-b037-f1577cad349d",
   "metadata": {},
   "outputs": [
    {
     "data": {
      "text/plain": [
       "(0, 1, 2, 3, 4)"
      ]
     },
     "execution_count": 12,
     "metadata": {},
     "output_type": "execute_result"
    }
   ],
   "source": [
    "tuple(range(5))"
   ]
  },
  {
   "cell_type": "code",
   "execution_count": 13,
   "id": "2e6c2e2b-31c2-46d9-8fde-8a84cdbfaee7",
   "metadata": {},
   "outputs": [
    {
     "data": {
      "text/plain": [
       "(1,\n",
       " 3,\n",
       " 5,\n",
       " 7,\n",
       " 9,\n",
       " 11,\n",
       " 13,\n",
       " 15,\n",
       " 17,\n",
       " 19,\n",
       " 21,\n",
       " 23,\n",
       " 25,\n",
       " 27,\n",
       " 29,\n",
       " 31,\n",
       " 33,\n",
       " 35,\n",
       " 37,\n",
       " 39,\n",
       " 41,\n",
       " 43,\n",
       " 45,\n",
       " 47,\n",
       " 49,\n",
       " 51,\n",
       " 53,\n",
       " 55,\n",
       " 57,\n",
       " 59,\n",
       " 61,\n",
       " 63,\n",
       " 65,\n",
       " 67,\n",
       " 69,\n",
       " 71,\n",
       " 73,\n",
       " 75,\n",
       " 77,\n",
       " 79,\n",
       " 81,\n",
       " 83,\n",
       " 85,\n",
       " 87,\n",
       " 89,\n",
       " 91,\n",
       " 93,\n",
       " 95,\n",
       " 97,\n",
       " 99)"
      ]
     },
     "execution_count": 13,
     "metadata": {},
     "output_type": "execute_result"
    }
   ],
   "source": [
    "tuple(range(1, 101, 2))"
   ]
  },
  {
   "cell_type": "code",
   "execution_count": null,
   "id": "c73bf6ee-3479-44bc-8987-f425c7df6e3c",
   "metadata": {},
   "outputs": [],
   "source": []
  }
 ],
 "metadata": {
  "kernelspec": {
   "display_name": "Python 3 (ipykernel)",
   "language": "python",
   "name": "python3"
  },
  "language_info": {
   "codemirror_mode": {
    "name": "ipython",
    "version": 3
   },
   "file_extension": ".py",
   "mimetype": "text/x-python",
   "name": "python",
   "nbconvert_exporter": "python",
   "pygments_lexer": "ipython3",
   "version": "3.12.7"
  }
 },
 "nbformat": 4,
 "nbformat_minor": 5
}
