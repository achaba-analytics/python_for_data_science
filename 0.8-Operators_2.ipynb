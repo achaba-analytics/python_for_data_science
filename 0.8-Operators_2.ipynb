{
 "cells": [
  {
   "cell_type": "markdown",
   "id": "c4f6b699-458d-4133-9111-4314d94fd699",
   "metadata": {},
   "source": [
    "Operators\n",
    "Operator       Operator Type      Example\n",
    "and            Logical AND        x and y\n",
    "or             Logical OR         x or y\n",
    "not            Logical NOT        not x\n",
    "in             Membership         x in y\n",
    "not in         Not membership     x not in y\n",
    "is             Identity           x is y\n",
    "is not         Not identity       x is not yy\n",
    "&              Bitwise AND        x & y\n",
    "|              Bitwise OR         x | y\n",
    "^              Bitwise XOR        x ^ y\n",
    "~              Bitwise NOT        ~x\n",
    "<<             Left Shift         x << y\n",
    ">>             Right Shift        x >> y"
   ]
  },
  {
   "cell_type": "code",
   "execution_count": 6,
   "id": "488743da-f78d-4ec3-93c6-bb2b1887e411",
   "metadata": {},
   "outputs": [
    {
     "data": {
      "text/plain": [
       "False"
      ]
     },
     "execution_count": 6,
     "metadata": {},
     "output_type": "execute_result"
    }
   ],
   "source": [
    "job_work_from_home = True\n",
    "job_health_insurance = False\n",
    "job_no_degree_mention = True\n",
    "\n",
    "job_work_from_home and job_health_insurance and job_no_degree_mention"
   ]
  },
  {
   "cell_type": "code",
   "execution_count": 5,
   "id": "e57f00b2-dcbe-4056-99b4-760e3eca962d",
   "metadata": {},
   "outputs": [
    {
     "data": {
      "text/plain": [
       "True"
      ]
     },
     "execution_count": 5,
     "metadata": {},
     "output_type": "execute_result"
    }
   ],
   "source": [
    "job_work_from_home = True\n",
    "job_health_insurance = False\n",
    "job_no_degree_mention = True\n",
    "\n",
    "job_work_from_home and job_health_insurance or job_no_degree_mention"
   ]
  },
  {
   "cell_type": "code",
   "execution_count": 7,
   "id": "fff36c32-29c3-4e7f-9b47-75f6c1644704",
   "metadata": {},
   "outputs": [
    {
     "data": {
      "text/plain": [
       "False"
      ]
     },
     "execution_count": 7,
     "metadata": {},
     "output_type": "execute_result"
    }
   ],
   "source": [
    "not True"
   ]
  },
  {
   "cell_type": "code",
   "execution_count": 8,
   "id": "4802640b-9a0c-4858-bd2b-747f1a6836fb",
   "metadata": {},
   "outputs": [
    {
     "data": {
      "text/plain": [
       "False"
      ]
     },
     "execution_count": 8,
     "metadata": {},
     "output_type": "execute_result"
    }
   ],
   "source": [
    "job_work_from_home = True\n",
    "job_health_insurance = False\n",
    "job_no_degree_mention = True\n",
    "\n",
    "job_work_from_home and job_health_insurance or not job_no_degree_mention"
   ]
  },
  {
   "cell_type": "markdown",
   "id": "132a47e6-c8fc-452b-930c-b855e3892f0d",
   "metadata": {},
   "source": [
    "Membership Operators"
   ]
  },
  {
   "cell_type": "code",
   "execution_count": 9,
   "id": "f43c8c23-1a21-4b64-9c64-93fc2b774e40",
   "metadata": {},
   "outputs": [
    {
     "data": {
      "text/plain": [
       "True"
      ]
     },
     "execution_count": 9,
     "metadata": {},
     "output_type": "execute_result"
    }
   ],
   "source": [
    "'Data' in 'Data Science'"
   ]
  },
  {
   "cell_type": "code",
   "execution_count": 10,
   "id": "5436966e-49b1-4a16-8d75-e0bc6fb1e3a1",
   "metadata": {},
   "outputs": [
    {
     "data": {
      "text/plain": [
       "False"
      ]
     },
     "execution_count": 10,
     "metadata": {},
     "output_type": "execute_result"
    }
   ],
   "source": [
    "'data' in 'Data Scientist'"
   ]
  },
  {
   "cell_type": "code",
   "execution_count": 11,
   "id": "e830f211-145f-42e8-b128-cfe1309d1aff",
   "metadata": {},
   "outputs": [],
   "source": [
    "job_skill = ['python', 'sql', 'Exccel']"
   ]
  },
  {
   "cell_type": "code",
   "execution_count": 12,
   "id": "4a7d0690-34eb-437c-9abd-196c33a8fbd9",
   "metadata": {},
   "outputs": [
    {
     "data": {
      "text/plain": [
       "True"
      ]
     },
     "execution_count": 12,
     "metadata": {},
     "output_type": "execute_result"
    }
   ],
   "source": [
    "'python' in job_skill"
   ]
  },
  {
   "cell_type": "markdown",
   "id": "f4e55023-eff6-41e3-a351-090ba7b8f029",
   "metadata": {},
   "source": [
    "Identity Operators"
   ]
  },
  {
   "cell_type": "code",
   "execution_count": 13,
   "id": "0a60be02-f5ff-435e-ad93-4c01c3a23b8b",
   "metadata": {
    "scrolled": true
   },
   "outputs": [
    {
     "data": {
      "text/plain": [
       "False"
      ]
     },
     "execution_count": 13,
     "metadata": {},
     "output_type": "execute_result"
    }
   ],
   "source": [
    "salary_achaba = 100_000\n",
    "salary_otieno = 100_000\n",
    "\n",
    "salary_achaba is salary_otieno"
   ]
  },
  {
   "cell_type": "code",
   "execution_count": 14,
   "id": "9a9273f0-f71a-418a-87c8-f69cda2fee43",
   "metadata": {},
   "outputs": [
    {
     "data": {
      "text/plain": [
       "(2021833099984, 2021833099056)"
      ]
     },
     "execution_count": 14,
     "metadata": {},
     "output_type": "execute_result"
    }
   ],
   "source": [
    "id(salary_achaba), id(salary_otieno)"
   ]
  },
  {
   "cell_type": "code",
   "execution_count": 16,
   "id": "8ca60829-268f-4425-a7c9-40b76be5fcd9",
   "metadata": {},
   "outputs": [
    {
     "data": {
      "text/plain": [
       "False"
      ]
     },
     "execution_count": 16,
     "metadata": {},
     "output_type": "execute_result"
    }
   ],
   "source": [
    "id(salary_achaba) == id(salary_otieno)"
   ]
  },
  {
   "cell_type": "code",
   "execution_count": 17,
   "id": "f1190c98-0609-4122-ad78-a0d160634ca9",
   "metadata": {},
   "outputs": [],
   "source": [
    "core_skills = ['python', 'sql', 'R']\n",
    "achaba_skills = core_skills"
   ]
  },
  {
   "cell_type": "code",
   "execution_count": 18,
   "id": "9874a33d-a8dc-484d-a68e-eb9514230be5",
   "metadata": {},
   "outputs": [
    {
     "data": {
      "text/plain": [
       "True"
      ]
     },
     "execution_count": 18,
     "metadata": {},
     "output_type": "execute_result"
    }
   ],
   "source": [
    "achaba_skills is core_skills"
   ]
  },
  {
   "cell_type": "code",
   "execution_count": 19,
   "id": "175fb936-b3a6-47d4-bbd8-274f71bbbc2e",
   "metadata": {},
   "outputs": [
    {
     "data": {
      "text/plain": [
       "'0b101010'"
      ]
     },
     "execution_count": 19,
     "metadata": {},
     "output_type": "execute_result"
    }
   ],
   "source": [
    "bin(42)"
   ]
  },
  {
   "cell_type": "code",
   "execution_count": null,
   "id": "26b8aff8-c8d4-476e-9c75-e17dc8b0a9e9",
   "metadata": {},
   "outputs": [],
   "source": []
  }
 ],
 "metadata": {
  "kernelspec": {
   "display_name": "Python 3 (ipykernel)",
   "language": "python",
   "name": "python3"
  },
  "language_info": {
   "codemirror_mode": {
    "name": "ipython",
    "version": 3
   },
   "file_extension": ".py",
   "mimetype": "text/x-python",
   "name": "python",
   "nbconvert_exporter": "python",
   "pygments_lexer": "ipython3",
   "version": "3.12.7"
  }
 },
 "nbformat": 4,
 "nbformat_minor": 5
}
