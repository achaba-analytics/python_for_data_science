{
 "cells": [
  {
   "cell_type": "markdown",
   "id": "20d211a2-8590-43aa-9d0c-09ec5670cc72",
   "metadata": {},
   "source": [
    "Functions"
   ]
  },
  {
   "cell_type": "code",
   "execution_count": 1,
   "id": "af483d5e-c3f6-4821-9612-1b9889500c17",
   "metadata": {},
   "outputs": [],
   "source": [
    "skill_list = ['Python', 'SQL', 'Excel']"
   ]
  },
  {
   "cell_type": "code",
   "execution_count": 2,
   "id": "fb93302b-ccfd-4cfb-a271-947151725961",
   "metadata": {},
   "outputs": [
    {
     "name": "stdout",
     "output_type": "stream",
     "text": [
      "Python\n",
      "SQL\n",
      "Excel\n"
     ]
    }
   ],
   "source": [
    "count = 0\n",
    "for skill in skill_list:\n",
    "    print(skill)\n",
    "    count += 1"
   ]
  },
  {
   "cell_type": "code",
   "execution_count": 3,
   "id": "bff6f851-b292-41a7-b239-cf605c429529",
   "metadata": {},
   "outputs": [
    {
     "data": {
      "text/plain": [
       "3"
      ]
     },
     "execution_count": 3,
     "metadata": {},
     "output_type": "execute_result"
    }
   ],
   "source": [
    "count"
   ]
  },
  {
   "cell_type": "code",
   "execution_count": 4,
   "id": "01a8bfef-bb24-4e6c-8d6d-2a9cdfb03d8a",
   "metadata": {},
   "outputs": [
    {
     "data": {
      "text/plain": [
       "85000"
      ]
     },
     "execution_count": 4,
     "metadata": {},
     "output_type": "execute_result"
    }
   ],
   "source": [
    "data_salaries = [95000, 100000, 85000, 97000, 140000]\n",
    "min(data_salaries)"
   ]
  },
  {
   "cell_type": "code",
   "execution_count": 5,
   "id": "cbb013aa-6e64-4ed1-8ab6-72010fe0b91f",
   "metadata": {},
   "outputs": [
    {
     "data": {
      "text/plain": [
       "140000"
      ]
     },
     "execution_count": 5,
     "metadata": {},
     "output_type": "execute_result"
    }
   ],
   "source": [
    "max(data_salaries)"
   ]
  },
  {
   "cell_type": "code",
   "execution_count": 7,
   "id": "cea346e5-97f8-446c-926f-ecfea344d5c1",
   "metadata": {},
   "outputs": [
    {
     "data": {
      "text/plain": [
       "517000"
      ]
     },
     "execution_count": 7,
     "metadata": {},
     "output_type": "execute_result"
    }
   ],
   "source": [
    "sum(data_salaries)"
   ]
  },
  {
   "cell_type": "code",
   "execution_count": 8,
   "id": "370c8634-ead1-4896-a13a-7cdd26cdc775",
   "metadata": {},
   "outputs": [
    {
     "data": {
      "text/plain": [
       "[85000, 95000, 97000, 100000, 140000]"
      ]
     },
     "execution_count": 8,
     "metadata": {},
     "output_type": "execute_result"
    }
   ],
   "source": [
    "sorted(data_salaries)"
   ]
  },
  {
   "cell_type": "markdown",
   "id": "f01a0749-259a-4f96-b722-d1a6d6fa6912",
   "metadata": {},
   "source": [
    "User-Defined Functions"
   ]
  },
  {
   "cell_type": "code",
   "execution_count": 29,
   "id": "b836249b-fa65-454e-b03e-0e43f75dc8bc",
   "metadata": {},
   "outputs": [
    {
     "data": {
      "text/plain": [
       "150000.0"
      ]
     },
     "execution_count": 29,
     "metadata": {},
     "output_type": "execute_result"
    }
   ],
   "source": [
    "# calculate total_salary of base_salary * (1 + bonus_rate)\n",
    "\n",
    "def calculate_salary(base_salary, bonus_rate):\n",
    "    total_salary = base_salary * (1 + bonus_rate)\n",
    "    return total_salary\n",
    "\n",
    "calculate_salary(100000, 0.5)"
   ]
  },
  {
   "cell_type": "markdown",
   "id": "56a02c46-7cbb-45ae-8352-85781bb8b956",
   "metadata": {},
   "source": [
    "lambda functions"
   ]
  },
  {
   "cell_type": "code",
   "execution_count": 33,
   "id": "f632899d-c8d4-48dc-9f45-f58d4a566952",
   "metadata": {},
   "outputs": [],
   "source": [
    "mul_two = lambda x: x*2"
   ]
  },
  {
   "cell_type": "code",
   "execution_count": 35,
   "id": "73c16580-0dce-496d-a80d-af93dae42cad",
   "metadata": {},
   "outputs": [
    {
     "data": {
      "text/plain": [
       "6"
      ]
     },
     "execution_count": 35,
     "metadata": {},
     "output_type": "execute_result"
    }
   ],
   "source": [
    "mul_two(3)"
   ]
  },
  {
   "cell_type": "code",
   "execution_count": 45,
   "id": "ee0db828-329b-4e49-9c83-a5aa20522b70",
   "metadata": {},
   "outputs": [
    {
     "data": {
      "text/plain": [
       "[104500.00000000001,\n",
       " 110000.00000000001,\n",
       " 93500.00000000001,\n",
       " 106700.00000000001,\n",
       " 154000.0]"
      ]
     },
     "execution_count": 45,
     "metadata": {},
     "output_type": "execute_result"
    }
   ],
   "source": [
    "salary_list = [95000, 100000, 85000, 97000, 140000]\n",
    "\n",
    "# calculate total_salary of base_salary * (1 + bonus_rate)\n",
    "\n",
    "# def calculate_salary(base_salary, bonus_rate=.1):\n",
    "#     return base_salary * (1 + bonus_rate)\n",
    "\n",
    "total_salary_list = [(lambda x: x * 1.1)(salary) for salary in salary_list]\n",
    "\n",
    "total_salary_list"
   ]
  },
  {
   "cell_type": "code",
   "execution_count": null,
   "id": "6e5b6d2f-e4e5-4e0e-ba22-2ffbbff7132d",
   "metadata": {},
   "outputs": [],
   "source": []
  }
 ],
 "metadata": {
  "kernelspec": {
   "display_name": "Python 3 (ipykernel)",
   "language": "python",
   "name": "python3"
  },
  "language_info": {
   "codemirror_mode": {
    "name": "ipython",
    "version": 3
   },
   "file_extension": ".py",
   "mimetype": "text/x-python",
   "name": "python",
   "nbconvert_exporter": "python",
   "pygments_lexer": "ipython3",
   "version": "3.12.7"
  }
 },
 "nbformat": 4,
 "nbformat_minor": 5
}
