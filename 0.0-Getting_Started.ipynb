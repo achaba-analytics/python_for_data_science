{
 "cells": [
  {
   "cell_type": "markdown",
   "id": "40cb90ed-ea11-4779-a000-6f44bd992daa",
   "metadata": {},
   "source": [
    "Python for Data Science"
   ]
  },
  {
   "cell_type": "code",
   "execution_count": 5,
   "id": "1de1a0fc-d0e9-4626-b546-55e220f86835",
   "metadata": {},
   "outputs": [
    {
     "name": "stdout",
     "output_type": "stream",
     "text": [
      "Hello Achaba\n"
     ]
    }
   ],
   "source": [
    "print('Hello Achaba')"
   ]
  },
  {
   "cell_type": "code",
   "execution_count": 10,
   "id": "091eda93-624d-435e-8215-71d1e26ef3e8",
   "metadata": {},
   "outputs": [],
   "source": [
    "base_salary = 100000\n",
    "bonus_rate = .10\n",
    "total_salary = (base_salary) * (1 + bonus_rate)"
   ]
  },
  {
   "cell_type": "code",
   "execution_count": 11,
   "id": "c0632f06-9ec2-47be-8d67-b643df6ec745",
   "metadata": {},
   "outputs": [
    {
     "data": {
      "text/plain": [
       "110000.00000000001"
      ]
     },
     "execution_count": 11,
     "metadata": {},
     "output_type": "execute_result"
    }
   ],
   "source": [
    "total_salary"
   ]
  },
  {
   "cell_type": "code",
   "execution_count": 13,
   "id": "43fd64b5-2a3d-4da1-ac48-d96f55adcf48",
   "metadata": {},
   "outputs": [],
   "source": [
    "company_name = 'Achaba Analytics'"
   ]
  },
  {
   "cell_type": "code",
   "execution_count": 15,
   "id": "828fbebd-9b48-4e65-b96d-f1440ec0eeb1",
   "metadata": {},
   "outputs": [],
   "source": [
    "Achaba_Analytics = True"
   ]
  },
  {
   "cell_type": "code",
   "execution_count": 14,
   "id": "773bbf0f-4a66-4725-9b16-680a15494b81",
   "metadata": {},
   "outputs": [
    {
     "data": {
      "text/plain": [
       "'Achaba Analytics'"
      ]
     },
     "execution_count": 14,
     "metadata": {},
     "output_type": "execute_result"
    }
   ],
   "source": [
    "company_name"
   ]
  },
  {
   "cell_type": "code",
   "execution_count": null,
   "id": "26fcc459-bdd1-44ae-a783-7bd13f2185d1",
   "metadata": {},
   "outputs": [],
   "source": []
  }
 ],
 "metadata": {
  "kernelspec": {
   "display_name": "Python 3 (ipykernel)",
   "language": "python",
   "name": "python3"
  },
  "language_info": {
   "codemirror_mode": {
    "name": "ipython",
    "version": 3
   },
   "file_extension": ".py",
   "mimetype": "text/x-python",
   "name": "python",
   "nbconvert_exporter": "python",
   "pygments_lexer": "ipython3",
   "version": "3.12.7"
  }
 },
 "nbformat": 4,
 "nbformat_minor": 5
}
