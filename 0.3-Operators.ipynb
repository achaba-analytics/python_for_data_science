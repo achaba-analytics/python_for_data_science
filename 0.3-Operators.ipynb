{
 "cells": [
  {
   "cell_type": "code",
   "execution_count": 1,
   "id": "c0eca603-c830-4fe1-820c-379a61e23b7c",
   "metadata": {},
   "outputs": [
    {
     "data": {
      "text/plain": [
       "2"
      ]
     },
     "execution_count": 1,
     "metadata": {},
     "output_type": "execute_result"
    }
   ],
   "source": [
    "four = 4\n",
    "four.__sub__(2)"
   ]
  },
  {
   "cell_type": "markdown",
   "id": "dc0ddd1d-c632-4d90-b380-9100f428ef76",
   "metadata": {},
   "source": [
    "Floor division (Maintains int)"
   ]
  },
  {
   "cell_type": "code",
   "execution_count": 2,
   "id": "31e686ef-1d77-4ac1-9232-c7f84a183d59",
   "metadata": {},
   "outputs": [
    {
     "data": {
      "text/plain": [
       "2"
      ]
     },
     "execution_count": 2,
     "metadata": {},
     "output_type": "execute_result"
    }
   ],
   "source": [
    "5 // 2"
   ]
  },
  {
   "cell_type": "code",
   "execution_count": 3,
   "id": "04bdadc8-7925-45c1-b0ce-e4c220024aa2",
   "metadata": {},
   "outputs": [],
   "source": [
    "min_salary = 20_000 #_ is ignored by the interpreter\n",
    "max_salary = 80_000\n",
    "\n",
    "avg_salary = (min_salary + max_salary) // 2"
   ]
  },
  {
   "cell_type": "code",
   "execution_count": 4,
   "id": "6cf56a4b-e751-4f88-a7ec-caad4314471f",
   "metadata": {},
   "outputs": [
    {
     "data": {
      "text/plain": [
       "50000"
      ]
     },
     "execution_count": 4,
     "metadata": {},
     "output_type": "execute_result"
    }
   ],
   "source": [
    "avg_salary"
   ]
  },
  {
   "cell_type": "code",
   "execution_count": 5,
   "id": "cd239a70-9690-4958-a6de-8bc7b3fc9d56",
   "metadata": {},
   "outputs": [],
   "source": [
    "applicant_1 = 'Achaba'\n",
    "applicant_2 = 'Otieno'"
   ]
  },
  {
   "cell_type": "code",
   "execution_count": 12,
   "id": "fb6e8c6d-cd18-45d3-b491-f1fc043dd272",
   "metadata": {},
   "outputs": [],
   "source": [
    "applicant_1, applicant_2 = applicant_2, applicant_1"
   ]
  },
  {
   "cell_type": "code",
   "execution_count": 13,
   "id": "5c84175d-bdfa-4249-a3c7-cab9588ab93e",
   "metadata": {},
   "outputs": [
    {
     "data": {
      "text/plain": [
       "('Achaba', 'Achaba')"
      ]
     },
     "execution_count": 13,
     "metadata": {},
     "output_type": "execute_result"
    }
   ],
   "source": [
    "applicant_1, applicant_2"
   ]
  },
  {
   "cell_type": "code",
   "execution_count": 14,
   "id": "551eadc9-99f1-431c-a9b8-07df20fc33a1",
   "metadata": {},
   "outputs": [],
   "source": [
    "x = 1"
   ]
  },
  {
   "cell_type": "code",
   "execution_count": 15,
   "id": "bd5cbef7-120f-4fa8-ace3-8865422a3a0f",
   "metadata": {},
   "outputs": [],
   "source": [
    "x+= 1 # same as x = x + 1"
   ]
  },
  {
   "cell_type": "code",
   "execution_count": 16,
   "id": "f326158b-75e6-40a3-87df-14b85e1f4de9",
   "metadata": {},
   "outputs": [
    {
     "data": {
      "text/plain": [
       "2"
      ]
     },
     "execution_count": 16,
     "metadata": {},
     "output_type": "execute_result"
    }
   ],
   "source": [
    "x"
   ]
  },
  {
   "cell_type": "code",
   "execution_count": 17,
   "id": "d237d951-d961-42ee-96d5-30d16c358787",
   "metadata": {},
   "outputs": [],
   "source": [
    "salary_achaba = 40_000\n",
    "salary_otieno = 60_000"
   ]
  },
  {
   "cell_type": "code",
   "execution_count": 18,
   "id": "cb6f4b70-ff76-4469-87d8-3bd75788429e",
   "metadata": {},
   "outputs": [
    {
     "data": {
      "text/plain": [
       "False"
      ]
     },
     "execution_count": 18,
     "metadata": {},
     "output_type": "execute_result"
    }
   ],
   "source": [
    "salary_achaba == salary_otieno"
   ]
  },
  {
   "cell_type": "markdown",
   "id": "c86aa8e0-dbbd-4c3b-a97d-c1fa085c2b89",
   "metadata": {},
   "source": [
    "conditional_operators"
   ]
  },
  {
   "cell_type": "code",
   "execution_count": 22,
   "id": "d3580a0b-9d16-4fe3-bc0f-370e2956fab4",
   "metadata": {},
   "outputs": [
    {
     "name": "stdout",
     "output_type": "stream",
     "text": [
      "I love you\n"
     ]
    }
   ],
   "source": [
    "if True:\n",
    "    print('I love you')"
   ]
  },
  {
   "cell_type": "code",
   "execution_count": 23,
   "id": "ea36a266-95f3-4215-bcb2-d3c65e2a20c9",
   "metadata": {},
   "outputs": [],
   "source": [
    "if False:\n",
    "    print('I hate you')"
   ]
  },
  {
   "cell_type": "code",
   "execution_count": 25,
   "id": "123de4fb-8c3b-4b90-8a9e-636f75898ae1",
   "metadata": {},
   "outputs": [
    {
     "name": "stdout",
     "output_type": "stream",
     "text": [
      "Skill match!\n"
     ]
    }
   ],
   "source": [
    "if job_skill == application_skill:\n",
    "    print('Skill match!')"
   ]
  },
  {
   "cell_type": "code",
   "execution_count": 48,
   "id": "991c5b40-f747-444e-bd85-a05afce74f0f",
   "metadata": {},
   "outputs": [
    {
     "name": "stdout",
     "output_type": "stream",
     "text": [
      "Enter name\n"
     ]
    },
    {
     "name": "stdin",
     "output_type": "stream",
     "text": [
      " Ali\n"
     ]
    },
    {
     "name": "stdout",
     "output_type": "stream",
     "text": [
      "You are not Achaba\n",
      "Who are you?\n"
     ]
    },
    {
     "name": "stdin",
     "output_type": "stream",
     "text": [
      " Otieno\n"
     ]
    },
    {
     "name": "stdout",
     "output_type": "stream",
     "text": [
      "Hello Otieno, Welcome on board\n"
     ]
    }
   ],
   "source": [
    "print('Enter name')\n",
    "name = input()\n",
    "if name == 'Achaba':\n",
    "    print('I love you Achaba')\n",
    "else:print('You are not Achaba\\nWho are you?')\n",
    "new_name = input()\n",
    "print(f'Hello {new_name}, Welcome on board')"
   ]
  },
  {
   "cell_type": "code",
   "execution_count": 43,
   "id": "36c90c81-52ca-43ee-89b1-ff36461dcd48",
   "metadata": {},
   "outputs": [],
   "source": [
    "job_skill = 'SQL'\n",
    "applicant_skill = 'Python'\n",
    "years_of_experience = 3\n",
    "\n",
    "if job_skill == years_of_experience:print('You qualify for this job')\n",
    "elif years_of_experience >= 5:print('Enough experience; NO SQL')\n",
    "elif applicant_skill == 'Python':\n",
    "    pass\n",
    "else:print('No skill or experience')"
   ]
  },
  {
   "cell_type": "code",
   "execution_count": null,
   "id": "bfaa2946-a5ca-4a43-92e3-c48f300db881",
   "metadata": {},
   "outputs": [],
   "source": []
  }
 ],
 "metadata": {
  "kernelspec": {
   "display_name": "Python 3 (ipykernel)",
   "language": "python",
   "name": "python3"
  },
  "language_info": {
   "codemirror_mode": {
    "name": "ipython",
    "version": 3
   },
   "file_extension": ".py",
   "mimetype": "text/x-python",
   "name": "python",
   "nbconvert_exporter": "python",
   "pygments_lexer": "ipython3",
   "version": "3.12.7"
  }
 },
 "nbformat": 4,
 "nbformat_minor": 5
}
