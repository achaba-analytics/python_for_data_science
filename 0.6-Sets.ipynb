{
 "cells": [
  {
   "cell_type": "markdown",
   "id": "0802d9b9-d69d-4190-9b5e-ed7e13ea5601",
   "metadata": {},
   "source": [
    "Sets\n",
    "Are mainly designed for unique items"
   ]
  },
  {
   "cell_type": "code",
   "execution_count": 1,
   "id": "127d7f4f-3563-4613-89b6-3f1b5be99506",
   "metadata": {},
   "outputs": [],
   "source": [
    "job_skills = {'tableau', 'sql', 'python', 'statistics'}"
   ]
  },
  {
   "cell_type": "code",
   "execution_count": 2,
   "id": "291bbd99-febd-4e09-b548-c767813510fe",
   "metadata": {},
   "outputs": [
    {
     "data": {
      "text/plain": [
       "{'python', 'sql', 'statistics', 'tableau'}"
      ]
     },
     "execution_count": 2,
     "metadata": {},
     "output_type": "execute_result"
    }
   ],
   "source": [
    "job_skills"
   ]
  },
  {
   "cell_type": "code",
   "execution_count": 5,
   "id": "d89a9905-ca24-454e-aa90-b3a1a6d82677",
   "metadata": {},
   "outputs": [],
   "source": [
    "job_skills.add('looker')"
   ]
  },
  {
   "cell_type": "code",
   "execution_count": 6,
   "id": "6c07f56e-f56d-4d3e-9067-90d3a03c2efb",
   "metadata": {},
   "outputs": [
    {
     "data": {
      "text/plain": [
       "{'looker', 'python', 'sql', 'statistics', 'tableau'}"
      ]
     },
     "execution_count": 6,
     "metadata": {},
     "output_type": "execute_result"
    }
   ],
   "source": [
    "job_skills"
   ]
  },
  {
   "cell_type": "code",
   "execution_count": 7,
   "id": "3ab599d6-1698-40ca-8994-62b8e87120fc",
   "metadata": {},
   "outputs": [],
   "source": [
    "job_skills.add('python')"
   ]
  },
  {
   "cell_type": "code",
   "execution_count": 8,
   "id": "387d7451-f998-41d9-aaf3-ec205f46d17f",
   "metadata": {},
   "outputs": [
    {
     "data": {
      "text/plain": [
       "{'looker', 'python', 'sql', 'statistics', 'tableau'}"
      ]
     },
     "execution_count": 8,
     "metadata": {},
     "output_type": "execute_result"
    }
   ],
   "source": [
    "job_skills"
   ]
  },
  {
   "cell_type": "code",
   "execution_count": 9,
   "id": "eb06de0c-38f8-49b1-ae70-003e1ca10116",
   "metadata": {},
   "outputs": [],
   "source": [
    "job_skills.remove('tableau')"
   ]
  },
  {
   "cell_type": "code",
   "execution_count": 10,
   "id": "65d958ae-bbf1-4050-ac50-656cf6877181",
   "metadata": {},
   "outputs": [
    {
     "data": {
      "text/plain": [
       "{'looker', 'python', 'sql', 'statistics'}"
      ]
     },
     "execution_count": 10,
     "metadata": {},
     "output_type": "execute_result"
    }
   ],
   "source": [
    "job_skills"
   ]
  },
  {
   "cell_type": "code",
   "execution_count": 11,
   "id": "8085c049-ebad-47c8-bfc3-95a9b81b514e",
   "metadata": {},
   "outputs": [],
   "source": [
    "skill_list = ['python', 'sql', 'statistics', 'tableau', 'python', 'sql', 'statistics', 'tableau']"
   ]
  },
  {
   "cell_type": "code",
   "execution_count": 12,
   "id": "5da8cfda-d100-477f-b95c-b90f714499da",
   "metadata": {},
   "outputs": [
    {
     "data": {
      "text/plain": [
       "{'python', 'sql', 'statistics', 'tableau'}"
      ]
     },
     "execution_count": 12,
     "metadata": {},
     "output_type": "execute_result"
    }
   ],
   "source": [
    "set(skill_list)"
   ]
  },
  {
   "cell_type": "code",
   "execution_count": 13,
   "id": "cce3066b-a17d-402b-a309-9eb5ee99c768",
   "metadata": {},
   "outputs": [
    {
     "data": {
      "text/plain": [
       "['statistics', 'python', 'tableau', 'sql']"
      ]
     },
     "execution_count": 13,
     "metadata": {},
     "output_type": "execute_result"
    }
   ],
   "source": [
    "list(set(skill_list))"
   ]
  },
  {
   "cell_type": "code",
   "execution_count": null,
   "id": "24744c77-f946-4757-ac34-3e226366298e",
   "metadata": {},
   "outputs": [],
   "source": []
  }
 ],
 "metadata": {
  "kernelspec": {
   "display_name": "Python 3 (ipykernel)",
   "language": "python",
   "name": "python3"
  },
  "language_info": {
   "codemirror_mode": {
    "name": "ipython",
    "version": 3
   },
   "file_extension": ".py",
   "mimetype": "text/x-python",
   "name": "python",
   "nbconvert_exporter": "python",
   "pygments_lexer": "ipython3",
   "version": "3.12.7"
  }
 },
 "nbformat": 4,
 "nbformat_minor": 5
}
