{
 "cells": [
  {
   "cell_type": "markdown",
   "id": "ae7a58df-0b96-4038-9319-c329e688f25e",
   "metadata": {},
   "source": [
    "Loops\n",
    "# Dont Repeat Yourself (DRY)"
   ]
  },
  {
   "cell_type": "code",
   "execution_count": 1,
   "id": "8fe51293-fc92-44c3-bf53-cb3fc5119b34",
   "metadata": {},
   "outputs": [
    {
     "name": "stdout",
     "output_type": "stream",
     "text": [
      "0\n",
      "1\n",
      "2\n",
      "3\n",
      "4\n",
      "5\n"
     ]
    }
   ],
   "source": [
    "# for loops\n",
    "numbers = [0, 1, 2, 3, 4, 5]\n",
    "\n",
    "for number in numbers:\n",
    "    print(number)"
   ]
  },
  {
   "cell_type": "code",
   "execution_count": 16,
   "id": "f8228fb1-c047-4e69-b11c-cdf9361c8640",
   "metadata": {},
   "outputs": [],
   "source": [
    "years_experience = {\n",
    "    'achaba': 2,\n",
    "    'otieno': 4,\n",
    "    'ochieng': 20,\n",
    "    'alfred': 3,\n",
    "    'omondi': 6\n",
    "}"
   ]
  },
  {
   "cell_type": "code",
   "execution_count": 12,
   "id": "d5f90ca4-a167-45b7-9fd2-649321ae18e4",
   "metadata": {},
   "outputs": [
    {
     "name": "stdout",
     "output_type": "stream",
     "text": [
      "2\n",
      "4\n",
      "20\n"
     ]
    }
   ],
   "source": [
    "for value in years_experience.values():\n",
    "    print(value)"
   ]
  },
  {
   "cell_type": "code",
   "execution_count": 14,
   "id": "c004571e-3574-4152-8270-eebeea432860",
   "metadata": {},
   "outputs": [
    {
     "name": "stdout",
     "output_type": "stream",
     "text": [
      "ochieng has 20 years of experience\n"
     ]
    }
   ],
   "source": [
    "for key, value in years_experience.items():\n",
    "    if value >= 5:\n",
    "        print(key, 'has', value, 'years of experience')"
   ]
  },
  {
   "cell_type": "code",
   "execution_count": 15,
   "id": "b9740f41-afb2-446f-822d-7cd548afb409",
   "metadata": {},
   "outputs": [
    {
     "name": "stdout",
     "output_type": "stream",
     "text": [
      "1\n",
      "2\n",
      "3\n",
      "4\n",
      "5\n",
      "6\n",
      "7\n"
     ]
    }
   ],
   "source": [
    "# while loops\n",
    "count = 1\n",
    "while count <= 7:\n",
    "    print(count)\n",
    "    count += 1"
   ]
  },
  {
   "cell_type": "code",
   "execution_count": 29,
   "id": "b5210c2d-b129-4ab2-a411-1c61f960c65a",
   "metadata": {},
   "outputs": [
    {
     "name": "stdout",
     "output_type": "stream",
     "text": [
      "ochieng 20\n"
     ]
    }
   ],
   "source": [
    "years = 0\n",
    "index = 0\n",
    "\n",
    "years_list = list(years_experience.items())\n",
    "while years < 5:\n",
    "    key, years = years_list[index]\n",
    "    if years >= 5:\n",
    "        print(key, years)\n",
    "    index += 1"
   ]
  },
  {
   "cell_type": "code",
   "execution_count": null,
   "id": "022ec480-4029-419f-b0c5-6b9387f47b82",
   "metadata": {},
   "outputs": [],
   "source": []
  }
 ],
 "metadata": {
  "kernelspec": {
   "display_name": "Python 3 (ipykernel)",
   "language": "python",
   "name": "python3"
  },
  "language_info": {
   "codemirror_mode": {
    "name": "ipython",
    "version": 3
   },
   "file_extension": ".py",
   "mimetype": "text/x-python",
   "name": "python",
   "nbconvert_exporter": "python",
   "pygments_lexer": "ipython3",
   "version": "3.12.7"
  }
 },
 "nbformat": 4,
 "nbformat_minor": 5
}
